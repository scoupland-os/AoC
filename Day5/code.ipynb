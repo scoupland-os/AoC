{
  "cells": [
    {
      "cell_type": "code",
      "source": [
        "import numpy as np\r\n",
        "\r\n",
        "with open(\"input.txt\",'r') as text:\r\n",
        "    dias,lines = text.read().split('\\n\\n')"
      ],
      "outputs": [],
      "execution_count": 9,
      "metadata": {
        "gather": {
          "logged": 1670325218910
        }
      }
    },
    {
      "cell_type": "code",
      "source": [
        "temp = []\r\n",
        "\r\n",
        "for dia in dias.split('\\n')[:8]:\r\n",
        "    temp.append([d for d in dia.replace('    ',\"_\").replace(\"[\",\"\").replace(\"]\",\"\").replace(\" \",\"\")])\r\n",
        "\r\n",
        "temp = np.fliplr(np.array(temp).transpose((1, 0))).tolist()\r\n",
        "\r\n",
        "ii = 0\r\n",
        "for t in temp:\r\n",
        "    i = 0\r\n",
        "    while i == 0:\r\n",
        "        try:\r\n",
        "            idx = temp[ii].index(\"_\")\r\n",
        "            del temp[ii][idx]\r\n",
        "        except:\r\n",
        "            i = 1\r\n",
        "    ii += 1\r\n",
        "\r\n",
        "for line in lines.split('\\n'):\r\n",
        "\r\n",
        "    x = line.split(\" \")\r\n",
        "    qt = int(x[1])\r\n",
        "    frm = int(x[3])-1\r\n",
        "    to = int(x[-1])-1\r\n",
        "\r\n",
        "    for i in range(qt):\r\n",
        "\r\n",
        "        temp[to].append(temp[frm][-(i+1)])\r\n",
        "    for i in range(qt):\r\n",
        "\r\n",
        "        del temp[frm][-1] \r\n",
        "\r\n",
        "letters = \"\"\r\n",
        "for i in temp:\r\n",
        "   letters += i[-1]\r\n",
        "\r\n",
        "print(letters)\r\n"
      ],
      "outputs": [
        {
          "output_type": "stream",
          "name": "stdout",
          "text": "TWSGQHNHL\n"
        }
      ],
      "execution_count": 3,
      "metadata": {
        "jupyter": {
          "source_hidden": false,
          "outputs_hidden": false
        },
        "nteract": {
          "transient": {
            "deleting": false
          }
        },
        "gather": {
          "logged": 1670324943113
        }
      }
    },
    {
      "cell_type": "code",
      "source": [
        "# part 2\r\n",
        "\r\n",
        "temp = []\r\n",
        "\r\n",
        "for dia in dias.split('\\n')[:8]:\r\n",
        "    temp.append([d for d in dia.replace('    ',\"_\").replace(\"[\",\"\").replace(\"]\",\"\").replace(\" \",\"\")])\r\n",
        "\r\n",
        "temp = np.fliplr(np.array(temp).transpose((1, 0))).tolist()\r\n",
        "\r\n",
        "ii = 0\r\n",
        "for t in temp:\r\n",
        "    i = 0\r\n",
        "    while i == 0:\r\n",
        "        try:\r\n",
        "            idx = temp[ii].index(\"_\")\r\n",
        "            del temp[ii][idx]\r\n",
        "        except:\r\n",
        "            i = 1\r\n",
        "    ii += 1\r\n",
        "\r\n",
        "for line in lines.split('\\n'):\r\n",
        "\r\n",
        "    x = line.split(\" \")\r\n",
        "    qt = int(x[1])\r\n",
        "    frm = int(x[3])-1\r\n",
        "    to = int(x[-1])-1\r\n",
        "\r\n",
        "    for i in range(qt):\r\n",
        "\r\n",
        "        temp[to].append(temp[frm][-qt:][i])\r\n",
        "    for i in range(qt):\r\n",
        "\r\n",
        "        del temp[frm][-1] \r\n",
        "\r\n",
        "letters = \"\"\r\n",
        "for i in temp:\r\n",
        "   letters += i[-1]\r\n",
        "\r\n",
        "print(letters)"
      ],
      "outputs": [
        {
          "output_type": "stream",
          "name": "stdout",
          "text": "JNRSCDWPP\n"
        }
      ],
      "execution_count": 10,
      "metadata": {
        "jupyter": {
          "source_hidden": false,
          "outputs_hidden": false
        },
        "nteract": {
          "transient": {
            "deleting": false
          }
        },
        "gather": {
          "logged": 1670325226951
        }
      }
    }
  ],
  "metadata": {
    "kernelspec": {
      "name": "python38-azureml",
      "language": "python",
      "display_name": "Python 3.8 - AzureML"
    },
    "language_info": {
      "name": "python",
      "version": "3.8.5",
      "mimetype": "text/x-python",
      "codemirror_mode": {
        "name": "ipython",
        "version": 3
      },
      "pygments_lexer": "ipython3",
      "nbconvert_exporter": "python",
      "file_extension": ".py"
    },
    "kernel_info": {
      "name": "python38-azureml"
    },
    "nteract": {
      "version": "nteract-front-end@1.0.0"
    },
    "microsoft": {
      "host": {
        "AzureML": {
          "notebookHasBeenCompleted": true
        }
      }
    }
  },
  "nbformat": 4,
  "nbformat_minor": 2
}