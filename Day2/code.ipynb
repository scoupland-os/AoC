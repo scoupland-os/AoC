{
  "cells": [
    {
      "cell_type": "code",
      "source": [
        "wins = [\"A Y\\n\",\"B Z\\n\",\"C X\\n\"]\r\n",
        "draws = [\"A X\\n\",\"B Y\\n\",\"C Z\\n\"]\r\n",
        "score = {'X':1,'Y':2,'Z':3}\r\n",
        "\r\n",
        "with open(\"input.txt\",'r') as text:\r\n",
        "    lines = text.readlines()\r\n",
        "\r\n",
        "\r\n",
        "x = 0\r\n",
        "for line in lines:\r\n",
        "    \r\n",
        "    _,i = line.split(\" \")\r\n",
        "    if line in wins:\r\n",
        "        x += 6\r\n",
        "    if line in draws:\r\n",
        "        x += 3\r\n",
        "    x += score[i[0]] \r\n",
        "\r\n",
        "\r\n",
        "print(x)"
      ],
      "outputs": [
        {
          "output_type": "stream",
          "name": "stdout",
          "text": "14297\n"
        }
      ],
      "execution_count": 13,
      "metadata": {
        "gather": {
          "logged": 1669975066163
        }
      }
    },
    {
      "cell_type": "code",
      "source": [
        "win = {'A':2 ,'B':3 ,'C':1}\r\n",
        "draw = {'A':1 ,'B':2 ,'C':3}\r\n",
        "lose = {'A':3 ,'B':1 ,'C':2}\r\n",
        "\r\n",
        "x = 0\r\n",
        "for line in lines:\r\n",
        "    \r\n",
        "    i,ii = line.split(\" \")\r\n",
        "\r\n",
        "    if ii[0] == \"X\":\r\n",
        "        x += lose[i]        \r\n",
        "    if ii[0] == \"Y\":\r\n",
        "        x += draw[i]\r\n",
        "        x += 3\r\n",
        "    if ii[0] == \"Z\": \r\n",
        "        x += win[i]\r\n",
        "        x +=6\r\n",
        "print(x)"
      ],
      "outputs": [
        {
          "output_type": "stream",
          "name": "stdout",
          "text": "10498\n"
        }
      ],
      "execution_count": 14,
      "metadata": {
        "jupyter": {
          "source_hidden": false,
          "outputs_hidden": false
        },
        "nteract": {
          "transient": {
            "deleting": false
          }
        },
        "gather": {
          "logged": 1669976420852
        }
      }
    }
  ],
  "metadata": {
    "kernelspec": {
      "name": "python38-azureml",
      "language": "python",
      "display_name": "Python 3.8 - AzureML"
    },
    "language_info": {
      "name": "python",
      "version": "3.8.5",
      "mimetype": "text/x-python",
      "codemirror_mode": {
        "name": "ipython",
        "version": 3
      },
      "pygments_lexer": "ipython3",
      "nbconvert_exporter": "python",
      "file_extension": ".py"
    },
    "kernel_info": {
      "name": "python38-azureml"
    },
    "microsoft": {
      "host": {
        "AzureML": {
          "notebookHasBeenCompleted": true
        }
      }
    },
    "nteract": {
      "version": "nteract-front-end@1.0.0"
    }
  },
  "nbformat": 4,
  "nbformat_minor": 2
}