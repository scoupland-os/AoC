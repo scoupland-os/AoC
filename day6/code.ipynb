{
  "cells": [
    {
      "cell_type": "code",
      "source": [
        "import numpy as np\r\n",
        "\r\n",
        "with open(\"input.txt\",'r') as text:\r\n",
        "    lines = text.read()"
      ],
      "outputs": [],
      "execution_count": 16,
      "metadata": {
        "gather": {
          "logged": 1670327910837
        }
      }
    },
    {
      "cell_type": "code",
      "source": [
        "# part 1\r\n",
        "\r\n",
        "i = 0\r\n",
        "j = 0\r\n",
        "while j == 0:\r\n",
        "    x = lines[i:i+4]\r\n",
        "    if sum([x.count(x[0]),x.count(x[1]),x.count(x[2]),x.count(x[3])]) == 4:\r\n",
        "        print(i+4)\r\n",
        "        j = 1\r\n",
        "    else:\r\n",
        "        i += 1\r\n"
      ],
      "outputs": [
        {
          "output_type": "stream",
          "name": "stdout",
          "text": "1544\n"
        }
      ],
      "execution_count": 10,
      "metadata": {
        "jupyter": {
          "source_hidden": false,
          "outputs_hidden": false
        },
        "nteract": {
          "transient": {
            "deleting": false
          }
        },
        "gather": {
          "logged": 1670327615132
        }
      }
    },
    {
      "cell_type": "code",
      "source": [
        "# part 2\r\n",
        "\r\n",
        "i = 0\r\n",
        "j = 0\r\n",
        "while j == 0:\r\n",
        "    x = lines[i:i+14]\r\n",
        "    sum_x = 0\r\n",
        "    for X in x:\r\n",
        "        sum_x += x.count(X)\r\n",
        "    if sum_x == 14:\r\n",
        "        print(i+14)\r\n",
        "        j = 1\r\n",
        "    else:\r\n",
        "        i += 1\r\n"
      ],
      "outputs": [
        {
          "output_type": "stream",
          "name": "stdout",
          "text": "2145\n"
        }
      ],
      "execution_count": 17,
      "metadata": {
        "jupyter": {
          "source_hidden": false,
          "outputs_hidden": false
        },
        "nteract": {
          "transient": {
            "deleting": false
          }
        },
        "gather": {
          "logged": 1670327912959
        }
      }
    }
  ],
  "metadata": {
    "kernelspec": {
      "name": "python38-azureml",
      "language": "python",
      "display_name": "Python 3.8 - AzureML"
    },
    "language_info": {
      "name": "python",
      "version": "3.8.5",
      "mimetype": "text/x-python",
      "codemirror_mode": {
        "name": "ipython",
        "version": 3
      },
      "pygments_lexer": "ipython3",
      "nbconvert_exporter": "python",
      "file_extension": ".py"
    },
    "kernel_info": {
      "name": "python38-azureml"
    },
    "microsoft": {
      "host": {
        "AzureML": {
          "notebookHasBeenCompleted": true
        }
      }
    },
    "nteract": {
      "version": "nteract-front-end@1.0.0"
    }
  },
  "nbformat": 4,
  "nbformat_minor": 2
}