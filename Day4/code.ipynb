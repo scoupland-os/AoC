{
  "cells": [
    {
      "cell_type": "code",
      "source": [
        "import numpy as np\r\n",
        "\r\n",
        "with open(\"input.txt\",'r') as text:\r\n",
        "    lines = text.readlines()"
      ],
      "outputs": [],
      "execution_count": 17,
      "metadata": {
        "gather": {
          "logged": 1670241802462
        }
      }
    },
    {
      "cell_type": "code",
      "source": [
        "# part 1\r\n",
        "\r\n",
        "total = 0\r\n",
        "\r\n",
        "for line in lines:\r\n",
        "    a,b = line.split('\\n')[0].split(',')\r\n",
        "    A = [i for i in range(int(a.split('-')[0]),int(a.split('-')[1])+1)]\r\n",
        "    B = [i for i in range(int(b.split('-')[0]),int(b.split('-')[1])+1)]\r\n",
        "    \r\n",
        "    itema = np.in1d(A,B)\r\n",
        "    itemb =  np.in1d(B,A)\r\n",
        "\r\n",
        "    if itema.all() or itemb.all():\r\n",
        "        total += 1\r\n",
        "\r\n",
        "print(total)"
      ],
      "outputs": [
        {
          "output_type": "stream",
          "name": "stdout",
          "text": "462\n"
        }
      ],
      "execution_count": 23,
      "metadata": {
        "jupyter": {
          "source_hidden": false,
          "outputs_hidden": false
        },
        "nteract": {
          "transient": {
            "deleting": false
          }
        },
        "gather": {
          "logged": 1670241984261
        }
      }
    },
    {
      "cell_type": "code",
      "source": [
        "# part 2\r\n",
        "\r\n",
        "total = 0\r\n",
        "\r\n",
        "for line in lines:\r\n",
        "    a,b = line.split('\\n')[0].split(',')\r\n",
        "    A = [i for i in range(int(a.split('-')[0]),int(a.split('-')[1])+1)]\r\n",
        "    B = [i for i in range(int(b.split('-')[0]),int(b.split('-')[1])+1)]\r\n",
        "    \r\n",
        "    itema = np.in1d(A,B)\r\n",
        "    itemb =  np.in1d(B,A)\r\n",
        "\r\n",
        "    if itema.any() or itemb.any():\r\n",
        "        total += 1\r\n",
        "\r\n",
        "print(total)"
      ],
      "outputs": [
        {
          "output_type": "stream",
          "name": "stdout",
          "text": "835\n"
        }
      ],
      "execution_count": 24,
      "metadata": {
        "jupyter": {
          "source_hidden": false,
          "outputs_hidden": false
        },
        "nteract": {
          "transient": {
            "deleting": false
          }
        },
        "gather": {
          "logged": 1670242306110
        }
      }
    }
  ],
  "metadata": {
    "kernelspec": {
      "name": "python38-azureml",
      "language": "python",
      "display_name": "Python 3.8 - AzureML"
    },
    "language_info": {
      "name": "python",
      "version": "3.8.5",
      "mimetype": "text/x-python",
      "codemirror_mode": {
        "name": "ipython",
        "version": 3
      },
      "pygments_lexer": "ipython3",
      "nbconvert_exporter": "python",
      "file_extension": ".py"
    },
    "nteract": {
      "version": "nteract-front-end@1.0.0"
    },
    "kernel_info": {
      "name": "python38-azureml"
    },
    "microsoft": {
      "host": {
        "AzureML": {
          "notebookHasBeenCompleted": true
        }
      }
    }
  },
  "nbformat": 4,
  "nbformat_minor": 2
}