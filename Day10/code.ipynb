{
  "cells": [
    {
      "cell_type": "code",
      "source": [
        "import matplotlib.pyplot as plt\r\n",
        "import numpy as np\r\n",
        "\r\n",
        "with open(\"input.txt\",'r') as text:\r\n",
        "    lines = text.readlines()"
      ],
      "outputs": [],
      "execution_count": 85,
      "metadata": {
        "gather": {
          "logged": 1670845278093
        }
      }
    },
    {
      "cell_type": "code",
      "source": [
        "# part 1\r\n",
        "\r\n",
        "i = 0\r\n",
        "x = 1\r\n",
        "strength = []\r\n",
        "\r\n",
        "def check(line,i,x):\r\n",
        "    val = 0\r\n",
        "    if \"addx\" in line:\r\n",
        "        val = int(line.split(\" \")[-1].replace(\"\\n\",\"\"))\r\n",
        "        i += 1\r\n",
        "    else:\r\n",
        "        i += 1\r\n",
        "    check_in(i,x)\r\n",
        "    x += val\r\n",
        "    return i, x\r\n",
        "\r\n",
        "def check_in(i,x):\r\n",
        "    if i in [20, 60, 100, 140, 180, 220]:\r\n",
        "        #print(i,x,i*x)\r\n",
        "        strength.append(i*x)\r\n",
        "\r\n",
        "for line in lines:\r\n",
        "    if \"addx\" in line:\r\n",
        "        i += 1\r\n",
        "        check_in(i,x)\r\n",
        "    i,x = check(line, i, x)\r\n",
        "\r\n",
        "print(sum(strength))"
      ],
      "outputs": [
        {
          "output_type": "stream",
          "name": "stdout",
          "text": "12520\n"
        }
      ],
      "execution_count": 55,
      "metadata": {
        "jupyter": {
          "source_hidden": false,
          "outputs_hidden": false
        },
        "nteract": {
          "transient": {
            "deleting": false
          }
        },
        "gather": {
          "logged": 1670840843187
        }
      }
    },
    {
      "cell_type": "code",
      "source": [
        "# part 2\r\n",
        "i = 0\r\n",
        "x = 1\r\n",
        "vals = []\r\n",
        "\r\n",
        "def sprite(x):\r\n",
        "    sprite = np.zeros(40)\r\n",
        "    x1 = np.clip(x-1,0,39)\r\n",
        "    x2 = np.clip(x+1,0,39)\r\n",
        "    sprite[x1] = 1\r\n",
        "    sprite[x] = 1\r\n",
        "    sprite[x2] = 1\r\n",
        "    return sprite\r\n",
        "\r\n",
        "def calc_val(sprite_pos,i,val):\r\n",
        "    if i > 39:\r\n",
        "        i = 0\r\n",
        "        vals.append(val)\r\n",
        "        val = []\r\n",
        "    val.append(sprite_pos[i])\r\n",
        "    return i,val\r\n",
        "\r\n",
        "def check(line,i,x,val,sprite_pos):\r\n",
        "    value = 0\r\n",
        "    if \"addx\" in line:\r\n",
        "        value = int(line.split(\" \")[-1].replace(\"\\n\",\"\"))\r\n",
        "    i,val = calc_val(sprite_pos,i,val)\r\n",
        "    i += 1\r\n",
        "    x += value\r\n",
        "    return i, x, val\r\n",
        "\r\n",
        "val = []\r\n",
        "sprite_pos = sprite(x)\r\n",
        "for line in lines:\r\n",
        "    if \"addx\" in line:\r\n",
        "        i,val = calc_val(sprite_pos,i,val)\r\n",
        "        i += 1\r\n",
        "    i,x,val = check(line, i, x, val,sprite_pos)\r\n",
        "    sprite_pos = sprite(x)\r\n",
        "vals.append(val)\r\n",
        "\r\n",
        "plt.imshow(np.array(vals))\r\n"
      ],
      "outputs": [
        {
          "output_type": "execute_result",
          "execution_count": 93,
          "data": {
            "text/plain": "<matplotlib.image.AxesImage at 0x7f57c2aea610>"
          },
          "metadata": {}
        },
        {
          "output_type": "display_data",
          "data": {
            "text/plain": "<Figure size 432x288 with 1 Axes>",
            "image/png": "[encoded data removed]"
          },
          "metadata": {
            "needs_background": "light"
          }
        }
      ],
      "execution_count": 93,
      "metadata": {
        "jupyter": {
          "source_hidden": false,
          "outputs_hidden": false
        },
        "nteract": {
          "transient": {
            "deleting": false
          }
        },
        "gather": {
          "logged": 1670845659564
        }
      }
    }
  ],
  "metadata": {
    "kernelspec": {
      "name": "python38-azureml",
      "language": "python",
      "display_name": "Python 3.8 - AzureML"
    },
    "language_info": {
      "name": "python",
      "version": "3.8.5",
      "mimetype": "text/x-python",
      "codemirror_mode": {
        "name": "ipython",
        "version": 3
      },
      "pygments_lexer": "ipython3",
      "nbconvert_exporter": "python",
      "file_extension": ".py"
    },
    "kernel_info": {
      "name": "python38-azureml"
    },
    "microsoft": {
      "host": {
        "AzureML": {
          "notebookHasBeenCompleted": true
        }
      }
    },
    "nteract": {
      "version": "nteract-front-end@1.0.0"
    }
  },
  "nbformat": 4,
  "nbformat_minor": 2
}