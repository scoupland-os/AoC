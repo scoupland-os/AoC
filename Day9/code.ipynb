{
  "cells": [
    {
      "cell_type": "code",
      "source": [
        "import numpy as np\r\n",
        "import matplotlib.pyplot as plt\r\n",
        "\r\n",
        "with open('input.txt','r') as data:\r\n",
        "    lines = data.read()"
      ],
      "outputs": [],
      "execution_count": 1,
      "metadata": {
        "gather": {
          "logged": 1670618435290
        }
      }
    },
    {
      "cell_type": "code",
      "source": [
        "def crop2(d):\r\n",
        "    y,x = np.where(d>0)\r\n",
        "    return(d[np.min(y):np.max(y)+1,np.min(x):np.max(x)+1])"
      ],
      "outputs": [],
      "execution_count": 2,
      "metadata": {
        "jupyter": {
          "source_hidden": false,
          "outputs_hidden": false
        },
        "nteract": {
          "transient": {
            "deleting": false
          }
        },
        "gather": {
          "logged": 1670618435395
        }
      }
    },
    {
      "cell_type": "code",
      "source": [
        "#part 1\r\n",
        "\r\n",
        "grid = np.zeros((1000,1000))\r\n",
        "grid[250,250] = 1\r\n",
        "\r\n",
        "h_pos = [250,250]\r\n",
        "t_pos = [250,250]\r\n",
        "\r\n",
        "print(t_pos)\r\n",
        "\r\n",
        "for line in lines.split('\\n'):\r\n",
        "    dr,val = line.split(\" \")\r\n",
        "    val = int(val)\r\n",
        "\r\n",
        "    ii = 0\r\n",
        "\r\n",
        "    for i in range(val):\r\n",
        "        if dr == \"R\":\r\n",
        "            h_pos[1] += 1\r\n",
        "        if dr == \"L\":\r\n",
        "            h_pos[1] -= 1\r\n",
        "        if dr == \"U\":\r\n",
        "            h_pos[0] += 1\r\n",
        "        if dr == \"D\":\r\n",
        "            h_pos[0] -= 1\r\n",
        "\r\n",
        "        #grid[t_pos[0],t_pos[1]] = 0.5\r\n",
        "\r\n",
        "        if not(t_pos[0] in range(h_pos[0]-1,h_pos[0]+2,1) and t_pos[1] in range(h_pos[1]-1,h_pos[1]+2,1)):\r\n",
        "            ii = 1\r\n",
        "        \r\n",
        "        if ii == 1:\r\n",
        "            if dr == \"R\":\r\n",
        "                t_pos = [h_pos[0],h_pos[1]-1]\r\n",
        "            if dr == \"L\":\r\n",
        "                t_pos = [h_pos[0],h_pos[1]+1]\r\n",
        "            if dr == \"U\":\r\n",
        "                t_pos = [h_pos[0]-1,h_pos[1]]\r\n",
        "            if dr == \"D\":\r\n",
        "                t_pos = [h_pos[0]+1,h_pos[1]]\r\n",
        "\r\n",
        "            grid[t_pos[0],t_pos[1]] = 1\r\n",
        "\r\n",
        "plt.figure(figsize = (5,10))\r\n",
        "plt.imshow(crop2(np.flipud(grid)), interpolation='nearest')\r\n",
        "plt.axis('off')\r\n",
        "print(int(np.sum(grid)))"
      ],
      "outputs": [
        {
          "output_type": "stream",
          "name": "stdout",
          "text": "[250, 250]\n6057\n"
        },
        {
          "output_type": "display_data",
          "data": {
            "text/plain": "<Figure size 360x720 with 1 Axes>",
            "image/png": "[encoded data removed]"
          },
          "metadata": {
            "needs_background": "light"
          }
        }
      ],
      "execution_count": 3,
      "metadata": {
        "jupyter": {
          "source_hidden": false,
          "outputs_hidden": false
        },
        "nteract": {
          "transient": {
            "deleting": false
          }
        },
        "gather": {
          "logged": 1670618435555
        }
      }
    },
    {
      "cell_type": "code",
      "source": [
        "# part 2\r\n",
        "\r\n",
        "def mover(x,y):\r\n",
        "\r\n",
        "    x5 = [x[0],x[1]-1]\r\n",
        "    x6 = [x[0],x[1]+1]\r\n",
        "    x7 = [x[0]-1,x[1]]\r\n",
        "    x8 = [x[0]+1,x[1]]\r\n",
        "    x1 = [x[0]+1,x[1]+1]\r\n",
        "    x2 = [x[0]-1,x[1]-1]\r\n",
        "    x3 = [x[0]-1,x[1]+1]\r\n",
        "    x4 = [x[0]+1,x[1]-1]\r\n",
        "\r\n",
        "    for i in range(8):\r\n",
        "        if eval(\"abs(x\"+str(i+1)+\"[0]-y[0]) <= 1 and abs(x\"+str(i+1)+\"[1]-y[1]) <= 1\"):\r\n",
        "            x = eval(\"x\"+str(i+1))\r\n",
        "\r\n",
        "    return x\r\n",
        "\r\n",
        "grid = np.zeros((1000,1000))\r\n",
        "grid[250,250] = 1\r\n",
        "\r\n",
        "for i in range(11):\r\n",
        "    exec(\"h\"+str(i)+\"=[250,250]\")\r\n",
        "\r\n",
        "for line in lines.split('\\n'):\r\n",
        "\r\n",
        "    dr,val = line.split(\" \")\r\n",
        "    val = int(val)\r\n",
        "\r\n",
        "    for i in range(val):\r\n",
        "\r\n",
        "        if dr == \"R\":\r\n",
        "            h0[1] += 1\r\n",
        "        if dr == \"L\":\r\n",
        "            h0[1] -= 1\r\n",
        "        if dr == \"U\":\r\n",
        "            h0[0] += 1\r\n",
        "        if dr == \"D\":\r\n",
        "            h0[0] -= 1\r\n",
        "\r\n",
        "        for ii in range(9):\r\n",
        "\r\n",
        "            #print(not(eval(\"h\"+str(ii+1))[0] in range(eval(\"h\"+str(ii))[0]-1,eval(\"h\"+str(ii))[0]+2,1) and eval(\"h\"+str(ii+1))[1] in range(eval(\"h\"+str(ii))[1]-1,eval(\"h\"+str(ii))[1]+2)))\r\n",
        "            \r\n",
        "            if not(eval(\"h\"+str(ii+1))[0] in range(eval(\"h\"+str(ii))[0]-1,eval(\"h\"+str(ii))[0]+2,1) and eval(\"h\"+str(ii+1))[1] in range(eval(\"h\"+str(ii))[1]-1,eval(\"h\"+str(ii))[1]+2)):\r\n",
        "                \r\n",
        "\r\n",
        "                exec(\"h\"+str(ii+1)+\"=\"+str(mover(eval(\"h\"+str(ii)),eval(\"h\"+str(ii+1)))))\r\n",
        "            \r\n",
        "                if ii == 8:\r\n",
        "                    \r\n",
        "                    grid[eval(\"h\"+str(ii+1))[0],eval(\"h\"+str(ii+1))[1]] = 1\r\n",
        "\r\n",
        "\r\n",
        "\r\n",
        "\r\n",
        "plt.figure(figsize = (5,10))\r\n",
        "plt.imshow(crop2(np.flipud(grid)), interpolation='nearest')\r\n",
        "plt.axis('off')\r\n",
        "\r\n",
        "print(int(np.sum(grid)))\r\n"
      ],
      "outputs": [
        {
          "output_type": "stream",
          "name": "stdout",
          "text": "2514\n"
        },
        {
          "output_type": "display_data",
          "data": {
            "text/plain": "<Figure size 360x720 with 1 Axes>",
            "image/png": "[encoded data removed]"
          },
          "metadata": {
            "needs_background": "light"
          }
        }
      ],
      "execution_count": 5,
      "metadata": {
        "jupyter": {
          "source_hidden": false,
          "outputs_hidden": false
        },
        "nteract": {
          "transient": {
            "deleting": false
          }
        },
        "gather": {
          "logged": 1670618481262
        }
      }
    },
    {
      "cell_type": "code",
      "source": [],
      "outputs": [],
      "execution_count": null,
      "metadata": {
        "jupyter": {
          "source_hidden": false,
          "outputs_hidden": false
        },
        "nteract": {
          "transient": {
            "deleting": false
          }
        }
      }
    }
  ],
  "metadata": {
    "kernelspec": {
      "name": "python38-azureml",
      "language": "python",
      "display_name": "Python 3.8 - AzureML"
    },
    "language_info": {
      "name": "python",
      "version": "3.8.5",
      "mimetype": "text/x-python",
      "codemirror_mode": {
        "name": "ipython",
        "version": 3
      },
      "pygments_lexer": "ipython3",
      "nbconvert_exporter": "python",
      "file_extension": ".py"
    },
    "kernel_info": {
      "name": "python38-azureml"
    },
    "microsoft": {
      "host": {
        "AzureML": {
          "notebookHasBeenCompleted": true
        }
      }
    },
    "nteract": {
      "version": "nteract-front-end@1.0.0"
    }
  },
  "nbformat": 4,
  "nbformat_minor": 2
}