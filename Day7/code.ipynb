{
  "cells": [
    {
      "cell_type": "code",
      "source": [
        "import numpy as np\r\n",
        "\r\n",
        "with open(\"input.txt\",'r') as text:\r\n",
        "    lines = text.readlines()"
      ],
      "outputs": [],
      "execution_count": 30,
      "metadata": {
        "gather": {
          "logged": 1670500442575
        }
      }
    },
    {
      "cell_type": "code",
      "source": [
        "# part 1\r\n",
        "\r\n",
        "dirs = {}\r\n",
        "\r\n",
        "dirs['/'] = {}\r\n",
        "\r\n",
        "cl = 0\r\n",
        "loc = 0\r\n",
        "\r\n",
        "list_dirs = []\r\n",
        "\r\n",
        "ev = \"dirs['/']\"\r\n",
        "\r\n",
        "for line in lines[1:]:\r\n",
        "\r\n",
        "    line = line.replace('\\n','')\r\n",
        "\r\n",
        "    if \" cd \" in line:\r\n",
        "\r\n",
        "        d = line.split(\" \")[-1]\r\n",
        "\r\n",
        "        if d == \"..\":\r\n",
        "            ev = '['.join(ev.split('[')[:-1])\r\n",
        "\r\n",
        "        else:\r\n",
        "            ev += f\"['{d}']\"\r\n",
        "\r\n",
        "    if \"dir\" in line:\r\n",
        "        x_dir = line.split(\" \")[-1]\r\n",
        "        list_dirs.append(ev + f\"['{x_dir}']\")\r\n",
        "        f_hack = \"{'total':0}\"\r\n",
        "        x_dir = f\"['{x_dir}']={f_hack}\"\r\n",
        "        exec(ev + x_dir)\r\n",
        "        \r\n",
        "    if any(char.isdigit() for char in line):\r\n",
        "        x_file = line.split(\" \")\r\n",
        "\r\n",
        "        evx = ev.split('[')\r\n",
        "\r\n",
        "        for i in range(len(evx)-1):\r\n",
        "\r\n",
        "            evy = '['.join(ev.split('[')[:i+2])\r\n",
        "\r\n",
        "\r\n",
        "            if eval(\"'files' in \"+ evy):\r\n",
        "                exec(evy + \"['files'].append(x_file[-1])\")\r\n",
        "                exec(evy + \"['sizes'].append(int(x_file[-2]))\")\r\n",
        "            else:\r\n",
        "                exec(evy + \"['files']=[(x_file[-1])]\")\r\n",
        "                exec(evy + \"['sizes']=[int(x_file[-2])]\")\r\n",
        "\r\n",
        "\r\n",
        "\r\n",
        "totals = []\r\n",
        "\r\n",
        "\r\n",
        "def extracty(dirs):\r\n",
        "    for key,value in dirs.items():\r\n",
        "\r\n",
        "        if isinstance(value, dict):\r\n",
        "\r\n",
        "            if value and 'sizes' in value.keys():\r\n",
        "                \r\n",
        "                if sum(value['sizes']) < 100000:\r\n",
        "                    \r\n",
        "                    totals.append(sum(value['sizes']))\r\n",
        "            \r\n",
        "            extracty(value)\r\n",
        "\r\n",
        "extracty(dirs)\r\n",
        "\r\n",
        "print(sum(totals))\r\n",
        "\r\n"
      ],
      "outputs": [
        {
          "output_type": "stream",
          "name": "stdout",
          "text": "1428881\n"
        }
      ],
      "execution_count": 34,
      "metadata": {
        "jupyter": {
          "source_hidden": false,
          "outputs_hidden": false
        },
        "nteract": {
          "transient": {
            "deleting": false
          }
        },
        "gather": {
          "logged": 1670500726511
        }
      }
    },
    {
      "cell_type": "code",
      "source": [
        "#part 2\r\n",
        "\r\n",
        "totals = []\r\n",
        "\r\n",
        "val = (70000000 - sum(dirs['/']['sizes']))\r\n",
        "\r\n",
        "def extracty(dirs):\r\n",
        "    for key,value in dirs.items():\r\n",
        "\r\n",
        "        if isinstance(value, dict):\r\n",
        "\r\n",
        "            if value and 'sizes' in value.keys():\r\n",
        "\r\n",
        "                if (val + sum(value['sizes'])) >= 30000000:\r\n",
        "                    \r\n",
        "                    totals.append(sum(value['sizes']))\r\n",
        "            \r\n",
        "            extracty(value)\r\n",
        "\r\n",
        "extracty(dirs)\r\n",
        "\r\n",
        "print(min(totals))\r\n"
      ],
      "outputs": [
        {
          "output_type": "stream",
          "name": "stdout",
          "text": "10475598\n"
        }
      ],
      "execution_count": 41,
      "metadata": {
        "jupyter": {
          "source_hidden": false,
          "outputs_hidden": false
        },
        "nteract": {
          "transient": {
            "deleting": false
          }
        },
        "gather": {
          "logged": 1670501033011
        }
      }
    }
  ],
  "metadata": {
    "kernelspec": {
      "name": "python38-azureml",
      "language": "python",
      "display_name": "Python 3.8 - AzureML"
    },
    "language_info": {
      "name": "python",
      "version": "3.8.5",
      "mimetype": "text/x-python",
      "codemirror_mode": {
        "name": "ipython",
        "version": 3
      },
      "pygments_lexer": "ipython3",
      "nbconvert_exporter": "python",
      "file_extension": ".py"
    },
    "kernel_info": {
      "name": "python38-azureml"
    },
    "microsoft": {
      "host": {
        "AzureML": {
          "notebookHasBeenCompleted": true
        }
      }
    },
    "nteract": {
      "version": "nteract-front-end@1.0.0"
    }
  },
  "nbformat": 4,
  "nbformat_minor": 2
}