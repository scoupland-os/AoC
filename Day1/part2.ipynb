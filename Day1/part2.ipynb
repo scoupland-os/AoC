{
  "cells": [
    {
      "cell_type": "code",
      "source": [
        "import numpy as np"
      ],
      "outputs": [],
      "execution_count": 1,
      "metadata": {
        "jupyter": {
          "source_hidden": false,
          "outputs_hidden": false
        },
        "nteract": {
          "transient": {
            "deleting": false
          }
        },
        "gather": {
          "logged": 1669893261462
        }
      }
    },
    {
      "cell_type": "markdown",
      "source": [
        "Initial try"
      ],
      "metadata": {
        "nteract": {
          "transient": {
            "deleting": false
          }
        }
      }
    },
    {
      "cell_type": "code",
      "source": [
        "with open(\"input.txt\",'r') as text:\r\n",
        "    lines = text.readlines()"
      ],
      "outputs": [],
      "execution_count": 2,
      "metadata": {
        "gather": {
          "logged": 1669893261558
        }
      }
    },
    {
      "cell_type": "code",
      "source": [
        "elves = []\r\n",
        "\r\n",
        "elf = []\r\n",
        "for line in lines:\r\n",
        "    if line == '\\n':\r\n",
        "        elves.append(sum(elf))\r\n",
        "        elf = []\r\n",
        "    else:\r\n",
        "        elf.append(int(line))\r\n",
        "elves.append(sum(elf))\r\n",
        "\r\n",
        "print(np.sum(np.sort(np.array(elves))[-3:]))"
      ],
      "outputs": [
        {
          "output_type": "stream",
          "name": "stdout",
          "text": "213089\n"
        }
      ],
      "execution_count": 3,
      "metadata": {
        "jupyter": {
          "source_hidden": false,
          "outputs_hidden": false
        },
        "nteract": {
          "transient": {
            "deleting": false
          }
        },
        "gather": {
          "logged": 1669893261670
        }
      }
    },
    {
      "cell_type": "markdown",
      "source": [
        "Single line version"
      ],
      "metadata": {
        "nteract": {
          "transient": {
            "deleting": false
          }
        }
      }
    },
    {
      "cell_type": "code",
      "source": [
        "with open(\"input.txt\",'r') as text:\r\n",
        "    lines = text.read()\r\n",
        "\r\n",
        "print(sum(sorted([sum([int(x) for x in line.split('\\n')]) for line in lines.split(\"\\n\\n\")])[-3:]))"
      ],
      "outputs": [
        {
          "output_type": "stream",
          "name": "stdout",
          "text": "213089\n"
        }
      ],
      "execution_count": 4,
      "metadata": {
        "jupyter": {
          "source_hidden": false,
          "outputs_hidden": false
        },
        "nteract": {
          "transient": {
            "deleting": false
          }
        },
        "gather": {
          "logged": 1669893261999
        }
      }
    }
  ],
  "metadata": {
    "kernelspec": {
      "name": "python38-azureml",
      "language": "python",
      "display_name": "Python 3.8 - AzureML"
    },
    "language_info": {
      "name": "python",
      "version": "3.8.5",
      "mimetype": "text/x-python",
      "codemirror_mode": {
        "name": "ipython",
        "version": 3
      },
      "pygments_lexer": "ipython3",
      "nbconvert_exporter": "python",
      "file_extension": ".py"
    },
    "kernel_info": {
      "name": "python38-azureml"
    },
    "microsoft": {
      "host": {
        "AzureML": {
          "notebookHasBeenCompleted": true
        }
      }
    },
    "nteract": {
      "version": "nteract-front-end@1.0.0"
    }
  },
  "nbformat": 4,
  "nbformat_minor": 2
}