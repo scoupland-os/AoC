{
  "cells": [
    {
      "cell_type": "code",
      "source": [
        "import numpy as np\r\n",
        "\r\n",
        "with open(\"input.txt\",'r') as text:\r\n",
        "    lines = text.readlines()"
      ],
      "outputs": [],
      "execution_count": 29,
      "metadata": {
        "gather": {
          "logged": 1670240463129
        }
      }
    },
    {
      "cell_type": "code",
      "source": [
        "#part 1\r\n",
        "\r\n",
        "total = 0\r\n",
        "\r\n",
        "for line in lines:\r\n",
        "    i = int(len(line)/2)\r\n",
        "    a = np.array([l for l in line[:i]])\r\n",
        "    b = np.array([l for l in line[i:]])\r\n",
        "    item = a[np.where(np.in1d(a,b))[0]]      \r\n",
        "    value = ord(item[0].lower()) - 96\r\n",
        "    if item[0].isupper():\r\n",
        "            value += 26\r\n",
        "\r\n",
        "    total += value\r\n",
        "\r\n",
        "\r\n",
        "print(total)"
      ],
      "outputs": [
        {
          "output_type": "stream",
          "name": "stdout",
          "text": "7997\n"
        }
      ],
      "execution_count": 2,
      "metadata": {
        "jupyter": {
          "source_hidden": false,
          "outputs_hidden": false
        },
        "nteract": {
          "transient": {
            "deleting": false
          }
        },
        "gather": {
          "logged": 1670235367072
        }
      }
    },
    {
      "cell_type": "code",
      "source": [
        "# part 2\r\n",
        "\r\n",
        "total = 0\r\n",
        "\r\n",
        "i = 0\r\n",
        "while i < len(lines):\r\n",
        "    a,b,c = lines[i:i+3]\r\n",
        "    a = [A for A in a]\r\n",
        "    b = [B for B in b]\r\n",
        "    c = [C for C in c]\r\n",
        "    A = [a[i] for i in np.where(np.in1d(a,b))[0]]\r\n",
        "    item = [c[i] for i in np.where(np.in1d(c,A))[0]][0]\r\n",
        "    value = ord(item[0].lower()) - 96\r\n",
        "    if item[0].isupper():\r\n",
        "            value += 26\r\n",
        "\r\n",
        "    total += value\r\n",
        "    \r\n",
        "    i += 3\r\n",
        "\r\n",
        "print(total)"
      ],
      "outputs": [
        {
          "output_type": "stream",
          "name": "stdout",
          "text": "2545\n"
        }
      ],
      "execution_count": 30,
      "metadata": {
        "jupyter": {
          "source_hidden": false,
          "outputs_hidden": false
        },
        "nteract": {
          "transient": {
            "deleting": false
          }
        },
        "gather": {
          "logged": 1670240465424
        }
      }
    }
  ],
  "metadata": {
    "kernelspec": {
      "name": "python38-azureml",
      "language": "python",
      "display_name": "Python 3.8 - AzureML"
    },
    "language_info": {
      "name": "python",
      "version": "3.8.5",
      "mimetype": "text/x-python",
      "codemirror_mode": {
        "name": "ipython",
        "version": 3
      },
      "pygments_lexer": "ipython3",
      "nbconvert_exporter": "python",
      "file_extension": ".py"
    },
    "kernel_info": {
      "name": "python38-azureml"
    },
    "microsoft": {
      "host": {
        "AzureML": {
          "notebookHasBeenCompleted": true
        }
      }
    },
    "nteract": {
      "version": "nteract-front-end@1.0.0"
    }
  },
  "nbformat": 4,
  "nbformat_minor": 2
}